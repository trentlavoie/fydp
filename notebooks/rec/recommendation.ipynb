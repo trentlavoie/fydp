{
 "cells": [
  {
   "cell_type": "code",
   "execution_count": 44,
   "metadata": {},
   "outputs": [],
   "source": [
    "import pandas as pd\n",
    "from datetime import datetime\n",
    "import numpy as np\n",
    "\n",
    "DATA_FILE = 'data/list_of_cars.csv'\n",
    "\n",
    "\n",
    "def preprocess(data_file):\n",
    "    df = pd.read_csv(data_file,header=None, names=['Brand', 'Body', 'Model', 'Year', 'Price', 'HP', 'Torque', 'Acc', 'Braking', 'Road Holding', 'Fuel Economy'])\n",
    "    df['HP'] = df['HP'].apply(lambda x: str(x)[:3].strip())\n",
    "    df['Torque'] = df['Torque'].apply(lambda x: str(x)[:3].strip())\n",
    "    return df\n",
    "\n",
    "data = preprocess(DATA_FILE)\n",
    "\n"
   ]
  },
  {
   "cell_type": "code",
   "execution_count": null,
   "metadata": {
    "collapsed": true
   },
   "outputs": [],
   "source": []
  },
  {
   "cell_type": "code",
   "execution_count": null,
   "metadata": {
    "collapsed": true
   },
   "outputs": [],
   "source": []
  }
 ],
 "metadata": {
  "kernelspec": {
   "display_name": "Python 3",
   "language": "python",
   "name": "python3"
  },
  "language_info": {
   "codemirror_mode": {
    "name": "ipython",
    "version": 3
   },
   "file_extension": ".py",
   "mimetype": "text/x-python",
   "name": "python",
   "nbconvert_exporter": "python",
   "pygments_lexer": "ipython3",
   "version": "3.6.3"
  }
 },
 "nbformat": 4,
 "nbformat_minor": 2
}
