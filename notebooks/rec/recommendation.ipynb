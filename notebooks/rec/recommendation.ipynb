{
 "cells": [
  {
   "cell_type": "code",
   "execution_count": 86,
   "metadata": {},
   "outputs": [],
   "source": [
    "import pandas as pd\n",
    "from datetime import datetime\n",
    "import numpy as np\n",
    "import skfuzzy as fuzz\n",
    "from skfuzzy import control as ctrl\n",
    "\n",
    "DATA_FILE = 'data/list_of_cars.csv'\n",
    "\n",
    "def preprocess(data_file):\n",
    "    df = pd.read_csv(data_file,header=None, names=['Brand', 'Body', 'Model', 'Year', 'Price', 'HP', 'Torque', 'Acc', 'Braking', 'Road Holding', 'Fuel Economy'])\n",
    "    df['HP'] = df['HP'].apply(lambda x: str(x)[:3].strip()).astype(float).dropna()\n",
    "    df['Torque'] = df['Torque'].apply(lambda x: str(x)[:3].strip()).astype(float).dropna()\n",
    "    df['Braking'] = df['Braking'].apply(lambda x: str(x)[:3].strip()).astype(float).dropna()\n",
    "    return df\n",
    "\n",
    "def calculate_score(row, average_score, max_score, attribute):\n",
    "    \n",
    "    final_score = 0\n",
    "    \n",
    "    if row[attribute] >= max_score:\n",
    "        return 5\n",
    "    else:\n",
    "        calculate_difference = row[attribute]/average_score\n",
    "        final_score = calculate_difference * 2.5\n",
    "        \n",
    "    return final_score\n",
    "\n",
    "data = preprocess(DATA_FILE)\n",
    "\n",
    "avg_HP = data['HP'].mean()\n",
    "max_HP = data['HP'].max()\n",
    "avg_torque = data['Torque'].mean()\n",
    "max_torque = data['Torque'].max()\n",
    "avg_braking_distance = data['Braking'].mean()\n",
    "max_braking_distance = data['Braking'].max()\n",
    "\n",
    "d = {\n",
    "    'Brand': data['Brand'], \n",
    "    'Body': data['Body'], \n",
    "    'Year': data['Year'],\n",
    "    'Price': data['Price']\n",
    "}\n",
    "\n",
    "hp_score_list = []\n",
    "torque_score_list = []\n",
    "braking_score_list = []\n",
    "\n",
    "for index, row in data.iterrows():\n",
    "    calculated_HP_score = calculate_score(row, avg_HP, max_HP, 'HP')\n",
    "    hp_score_list.append(calculated_HP_score)\n",
    "    calculated_torque_score = calculate_score(row, avg_torque, max_torque, 'Torque')\n",
    "    torque_score_list.append(calculated_torque_score)\n",
    "    calculated_braking_score = calculate_score(row, avg_braking_distance, max_braking_distance, 'Braking')\n",
    "    braking_score_list.append(calculated_braking_score)\n",
    "    \n",
    "df = pd.DataFrame(data=d)\n",
    "\n",
    "df['HP'] = hp_score_list\n",
    "df['Torque'] =  torque_score_list\n",
    "df['Braking'] = braking_score_list\n",
    "\n",
    "#df.to_csv('data/model_vectors.csv')\n",
    "\n",
    "\n",
    "        "
   ]
  },
  {
   "cell_type": "code",
   "execution_count": null,
   "metadata": {
    "collapsed": true
   },
   "outputs": [],
   "source": []
  },
  {
   "cell_type": "code",
   "execution_count": null,
   "metadata": {
    "collapsed": true
   },
   "outputs": [],
   "source": []
  }
 ],
 "metadata": {
  "kernelspec": {
   "display_name": "Python 3",
   "language": "python",
   "name": "python3"
  },
  "language_info": {
   "codemirror_mode": {
    "name": "ipython",
    "version": 3
   },
   "file_extension": ".py",
   "mimetype": "text/x-python",
   "name": "python",
   "nbconvert_exporter": "python",
   "pygments_lexer": "ipython3",
   "version": "3.6.3"
  }
 },
 "nbformat": 4,
 "nbformat_minor": 2
}
