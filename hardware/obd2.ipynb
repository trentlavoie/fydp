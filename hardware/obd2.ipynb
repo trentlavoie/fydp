{
 "cells": [
  {
   "cell_type": "code",
   "execution_count": null,
   "metadata": {},
   "outputs": [],
   "source": [
    "# Manual OBD2 connection\n",
    "\n",
    "import serial\n",
    "ser = serial.Serial('NAME_OF_SERIAL_DEVICE', 38400, timeout=1)\n",
    "\n",
    "import logging\n",
    "import sys\n",
    "import time\n",
    "\n"
   ]
  },
  {
   "cell_type": "code",
   "execution_count": null,
   "metadata": {},
   "outputs": [],
   "source": [
    "ser.write(\"01 0D \\r\")\n",
    "\n",
    "speed_hex = ser.readline().split(' ')\n",
    "print (str(speed_hex))\n",
    "speed = float(int('0x'+speed_hex[3], 0 ))\n",
    "print ()'Speed: ', speed, 'km/h')\n"
   ]
  },
  {
   "cell_type": "code",
   "execution_count": null,
   "metadata": {},
   "outputs": [],
   "source": [
    "# Using OBD2 library\n",
    "\n",
    "import obd\n",
    "\n",
    "connection = obd.OBD() # auto-connects to USB or RF port\n",
    "\n"
   ]
  },
  {
   "cell_type": "code",
   "execution_count": null,
   "metadata": {},
   "outputs": [],
   "source": [
    "cmd = obd.commands.SPEED # select an OBD command (sensor)\n",
    "\n",
    "response = connection.query(cmd) # send the command, and parse the response\n",
    "\n",
    "print(response.value) # returns unit-bearing values thanks to Pint\n",
    "print(response.value.to(\"mph\")) # user-friendly unit conversions"
   ]
  },
  {
   "cell_type": "code",
   "execution_count": null,
   "metadata": {},
   "outputs": [],
   "source": [
    "from Adafruit_BNO055 import BNO055\n",
    "\n",
    "\n",
    "bno = BNO055.BNO055(serial_port='/dev/ttyAMA0', rst=18)\n",
    "\n",
    "if not bno.begin():\n",
    "    raise RuntimeError('Failed to initialize BNO055! Is the sensor connected?')\n",
    "\n",
    "# Print system status and self test result.\n",
    "status, self_test, error = bno.get_system_status()\n",
    "print('System status: {0}'.format(status))\n",
    "print('Self test result (0x0F is normal): 0x{0:02X}'.format(self_test))\n",
    "# Print out an error if system status is in error mode.\n",
    "if status == 0x01:\n",
    "    print('System error: {0}'.format(error))\n",
    "    print('See datasheet section 4.3.59 for the meaning.')"
   ]
  },
  {
   "cell_type": "code",
   "execution_count": null,
   "metadata": {},
   "outputs": [],
   "source": [
    "    # Read the Euler angles for heading, roll, pitch (all in degrees).\n",
    "heading, roll, pitch = bno.read_euler()\n",
    "    # Read the calibration status, 0=uncalibrated and 3=fully calibrated.\n",
    "sys, gyro, accel, mag = bno.get_calibration_status()\n",
    "    # Print everything out.\n",
    "print('Heading={0:0.2F} Roll={1:0.2F} Pitch={2:0.2F}\\tSys_cal={3} Gyro_cal={4} Accel_cal={5} Mag_cal={6}'.format(\n",
    "          heading, roll, pitch, sys, gyro, accel, mag))"
   ]
  }
 ],
 "metadata": {
  "kernelspec": {
   "display_name": "Python 2",
   "language": "python",
   "name": "python2"
  },
  "language_info": {
   "codemirror_mode": {
    "name": "ipython",
    "version": 2
   },
   "file_extension": ".py",
   "mimetype": "text/x-python",
   "name": "python",
   "nbconvert_exporter": "python",
   "pygments_lexer": "ipython2",
   "version": "2.7.10"
  }
 },
 "nbformat": 4,
 "nbformat_minor": 2
}
